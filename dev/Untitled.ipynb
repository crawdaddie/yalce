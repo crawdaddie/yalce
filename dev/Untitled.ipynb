{
 "cells": [
  {
   "cell_type": "code",
   "execution_count": null,
   "id": "1cc0d3a6-21be-4599-aac3-1951f9902b59",
   "metadata": {},
   "outputs": [],
   "source": [
    "letx "
   ]
  }
 ],
 "metadata": {
  "kernelspec": {
   "display_name": "YLC Language",
   "language": "ylc",
   "name": "ylc"
  },
  "language_info": {
   "name": ""
  }
 },
 "nbformat": 4,
 "nbformat_minor": 5
}
