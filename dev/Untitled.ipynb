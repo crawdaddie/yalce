{
 "cells": [
  {
   "cell_type": "code",
   "execution_count": 1,
   "id": "1cc0d3a6-21be-4599-aac3-1951f9902b59",
   "metadata": {
    "vscode": {
     "languageId": "swift"
    }
   },
   "outputs": [
    {
     "name": "stdout",
     "output_type": "stream",
     "text": [
      "\u001b[35mYLC LANG REPL     \n",
      "------------------\n",
      "version 0.0.0     \n",
      "\u001b[0m\u001b[6 q\u001b[31mλ \u001b[0m\u001b[36mlet x = 1\n",
      "Int\n",
      "\u001b[32m> `Int\n",
      "1\n",
      "\u001b[0m\u001b[6 q\u001b[31mλ \u001b[0m\u001b[36mlet y = x + 2\n",
      "Int\n",
      "\u001b[32m> `Int\n",
      "3\n",
      "\u001b[0m\u001b[6 q\u001b[31mλ \u001b[0m\u001b[36m\n"
     ]
    }
   ],
   "source": [
    "let x = 1\n",
    "let y = x + 2\n"
   ]
  },
  {
   "cell_type": "code",
   "execution_count": 2,
   "id": "c8834820",
   "metadata": {
    "vscode": {
     "languageId": "swift"
    }
   },
   "outputs": [
    {
     "name": "stdout",
     "output_type": "stream",
     "text": [
      "\u001b[6 q\u001b[31mλ \u001b[0m\u001b[36mprint `jup {x}`;\n",
      "()\n",
      "\u001b[32m> jup 1`()\n",
      "\n"
     ]
    }
   ],
   "source": [
    "print `jup {x}`;"
   ]
  },
  {
   "cell_type": "code",
   "execution_count": 3,
   "id": "62648358",
   "metadata": {
    "vscode": {
     "languageId": "swift"
    }
   },
   "outputs": [
    {
     "name": "stdout",
     "output_type": "stream",
     "text": [
      "\u001b[0m\u001b[6 q\u001b[31mλ \u001b[0m\u001b[36mopen engine/bindings/Synth\n"
     ]
    },
    {
     "name": "stderr",
     "output_type": "stream",
     "text": [
      "Error opening file: ./engine/bindings/Synth.ylc\n"
     ]
    }
   ],
   "source": [
    "open engine/bindings/Synth\n"
   ]
  },
  {
   "cell_type": "code",
   "execution_count": null,
   "id": "43f895ec",
   "metadata": {
    "vscode": {
     "languageId": "swift"
    }
   },
   "outputs": [],
   "source": []
  },
  {
   "cell_type": "code",
   "execution_count": 4,
   "id": "57c63899",
   "metadata": {
    "vscode": {
     "languageId": "swift"
    }
   },
   "outputs": [
    {
     "ename": "BrokenPipeError",
     "evalue": "[Errno 32] Broken pipe",
     "output_type": "error",
     "traceback": [
      "Error sending code to YLC interpreter"
     ]
    }
   ],
   "source": [
    "import engine/bindings/Synth\n"
   ]
  },
  {
   "cell_type": "code",
   "execution_count": 1,
   "id": "ca2cc306",
   "metadata": {
    "vscode": {
     "languageId": "swift"
    }
   },
   "outputs": [
    {
     "name": "stdout",
     "output_type": "stream",
     "text": [
      "\u001b[35mYLC LANG REPL     \n",
      "------------------\n",
      "version 0.0.0     \n",
      "\u001b[0m\u001b[6 q\u001b[31mλ \u001b[0m\u001b[36m\n",
      "<ddle' font-size='16'>Simple Bar Chart</text></svg>`\n",
      "()\n",
      "\u001b[32m> %display_plot:<svg width='400' height='200' xmlns='http://www.w3.org/2000/svg'><rect x='10' y='120' width='50' height='50' fill='#4285f4'/><rect x='70' y='100' width='50' height='70' fill='#ea4335'/><rect x='130' y='80' width='50' height='90' fill='#fbbc05'/><rect x='190' y='60' width='50' height='110' fill='#34a853'/><rect x='250' y='80' width='50' height='90' fill='#4285f4'/><rect x='310' y='100' width='50' height='70' fill='#ea4335'/><line x1='10' y1='170' x2='360' y2='170' stroke='black' stroke-width='2'/><text x='200' y='30' text-anchor='middle' font-size='16'>Simple Bar Chart</text></svg>`()\n",
      "\n",
      "\u001b[0m\u001b[6 q\u001b[31mλ \u001b[0m\u001b[36m\n"
     ]
    }
   ],
   "source": [
    "print `%display_plot:<svg width='400' height='200' xmlns='http://www.w3.org/2000/svg'><rect x='10' y='120' width='50' height='50' fill='#4285f4'/><rect x='70' y='100' width='50' height='70' fill='#ea4335'/><rect x='130' y='80' width='50' height='90' fill='#fbbc05'/><rect x='190' y='60' width='50' height='110' fill='#34a853'/><rect x='250' y='80' width='50' height='90' fill='#4285f4'/><rect x='310' y='100' width='50' height='70' fill='#ea4335'/><line x1='10' y1='170' x2='360' y2='170' stroke='black' stroke-width='2'/><text x='200' y='30' text-anchor='middle' font-size='16'>Simple Bar Chart</text></svg>`\n"
   ]
  },
  {
   "cell_type": "code",
   "execution_count": null,
   "id": "a1cbc674",
   "metadata": {
    "vscode": {
     "languageId": "swift"
    }
   },
   "outputs": [],
   "source": []
  }
 ],
 "metadata": {
  "kernelspec": {
   "display_name": "YLC Language",
   "language": "ylc",
   "name": "ylc"
  },
  "language_info": {
   "file_extension": ".ylc",
   "mimetype": "text/plain",
   "name": "ylc"
  }
 },
 "nbformat": 4,
 "nbformat_minor": 5
}
